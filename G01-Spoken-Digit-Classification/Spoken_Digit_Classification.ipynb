{
  "nbformat": 4,
  "nbformat_minor": 0,
  "metadata": {
    "colab": {
      "name": "Spoken_Digit_Classification.ipynb",
      "provenance": [],
      "collapsed_sections": [],
      "include_colab_link": true
    },
    "kernelspec": {
      "name": "python3",
      "display_name": "Python 3"
    },
    "language_info": {
      "name": "python"
    },
    "accelerator": "TPU"
  },
  "cells": [
    {
      "cell_type": "markdown",
      "metadata": {
        "id": "view-in-github",
        "colab_type": "text"
      },
      "source": [
        "<a href=\"https://colab.research.google.com/github/AnitaKamani/computational-intelligence-class-9902/blob/G01-Spoken-Digit-Classification/G01-Spoken-Digit-Classification/Spoken_Digit_Classification.ipynb\" target=\"_parent\"><img src=\"https://colab.research.google.com/assets/colab-badge.svg\" alt=\"Open In Colab\"/></a>"
      ]
    },
    {
      "cell_type": "code",
      "metadata": {
        "colab": {
          "base_uri": "https://localhost:8080/"
        },
        "id": "vUsY8mlR1VDY",
        "outputId": "017e08f7-5e9b-4de4-bd7c-76e3b9d5e796"
      },
      "source": [
        "pip install pydub"
      ],
      "execution_count": 1,
      "outputs": [
        {
          "output_type": "stream",
          "text": [
            "Collecting pydub\n",
            "  Downloading https://files.pythonhosted.org/packages/a6/53/d78dc063216e62fc55f6b2eebb447f6a4b0a59f55c8406376f76bf959b08/pydub-0.25.1-py2.py3-none-any.whl\n",
            "Installing collected packages: pydub\n",
            "Successfully installed pydub-0.25.1\n"
          ],
          "name": "stdout"
        }
      ]
    },
    {
      "cell_type": "code",
      "metadata": {
        "colab": {
          "base_uri": "https://localhost:8080/"
        },
        "id": "CClWvtRuUeYS",
        "outputId": "47e25365-3a58-494e-e5c0-d28d56782d6f"
      },
      "source": [
        "# connecting to google drive\n",
        "\n",
        "from google.colab import drive\n",
        "drive.mount('/content/drive')"
      ],
      "execution_count": 2,
      "outputs": [
        {
          "output_type": "stream",
          "text": [
            "Mounted at /content/drive\n"
          ],
          "name": "stdout"
        }
      ]
    },
    {
      "cell_type": "markdown",
      "metadata": {
        "id": "bifSC5l3XnIf"
      },
      "source": [
        "### Importing libraries"
      ]
    },
    {
      "cell_type": "code",
      "metadata": {
        "id": "3fq-VUWHUmLx"
      },
      "source": [
        "import os\n",
        "from tqdm import tqdm\n",
        "import random\n",
        "import librosa\n",
        "import numpy as np\n",
        "from sklearn.model_selection import train_test_split\n",
        "import tensorflow as tf\n",
        "import matplotlib.pyplot as plt\n",
        "from pydub import AudioSegment\n",
        "from pydub.silence import split_on_silence\n",
        "from scipy.io.wavfile import write"
      ],
      "execution_count": 53,
      "outputs": []
    },
    {
      "cell_type": "markdown",
      "metadata": {
        "id": "yk8ugdIZVNXT"
      },
      "source": [
        "### Importing datas and feature extracting"
      ]
    },
    {
      "cell_type": "code",
      "metadata": {
        "id": "QoCzGhilUvW3"
      },
      "source": [
        "# sound directory of cut silence audio\n",
        "\n",
        "dir = '/content/drive/MyDrive/CI_files/Spoken_Digit_Classification/'"
      ],
      "execution_count": 5,
      "outputs": []
    },
    {
      "cell_type": "code",
      "metadata": {
        "id": "hMQFXdmOUx_g",
        "colab": {
          "base_uri": "https://localhost:8080/"
        },
        "outputId": "60993d0f-fe83-477b-9f9d-7fe2d22a1830"
      },
      "source": [
        "# importing audios and collecting labels\n",
        "\n",
        "sounds_dir = dir + \"Audio/cut_silence/\"\n",
        "# integer of sampels per audio\n",
        "samples=30\n",
        "# list for data\n",
        "data_list = []\n",
        "# list for label\n",
        "data_label = []\n",
        "# importing the audio file names into \"mylist\" array\n",
        "mylist = os.listdir(sounds_dir)\n",
        "# shuffling audio names\n",
        "random.shuffle(mylist)\n",
        "\n",
        "# using tqdm for showing a progress bar \n",
        "for i in tqdm(range(len(mylist)), position=0, leave=True):\n",
        "    # making file path for each file\n",
        "    path = sounds_dir + mylist[i]\n",
        "    # using librosa to extract data and sampling_rate from audios\n",
        "    data, sampling_rate = librosa.load(path)\n",
        "    # extracting audio feature using mfcc number of rows = samples \n",
        "    # according to file length we have feature number of columns\n",
        "    # but using np.mean with axis 1 we are able to convert (samples,col) shape into (samples,) shape\n",
        "    # this function calculates the average of each row\n",
        "    mfccs = np.mean(librosa.feature.mfcc(y=data, sr=sampling_rate, n_mfcc=samples), axis=1)\n",
        "    # appending mfccs to data_list\n",
        "    data_list.append(mfccs)\n",
        "    # appending labels collected from first char of the name of each audio file ex: 9_yweweler_48.wav -> label='9'\n",
        "    data_label.append(int(mylist[i][0]))"
      ],
      "execution_count": 116,
      "outputs": [
        {
          "output_type": "stream",
          "text": [
            "100%|██████████| 2808/2808 [01:11<00:00, 39.47it/s]\n"
          ],
          "name": "stderr"
        }
      ]
    },
    {
      "cell_type": "code",
      "metadata": {
        "id": "aYIK-yivUzsU",
        "colab": {
          "base_uri": "https://localhost:8080/"
        },
        "outputId": "f09b563f-2587-4dcd-df23-b9595992ea0c"
      },
      "source": [
        "# length and example\n",
        "\n",
        "print(\"number of data: \", len(data_list))\n",
        "print(\"number of label: \", len(data_label))\n",
        "print(\"data ex: \", data_list[10:11])\n",
        "print(\"label ex: \", data_label[10:11])"
      ],
      "execution_count": 117,
      "outputs": [
        {
          "output_type": "stream",
          "text": [
            "number of data:  2808\n",
            "number of label:  2808\n",
            "data ex:  [array([-5.3000903e+02,  2.1975723e+02, -4.6478035e+01,  1.5775361e+01,\n",
            "        1.5802105e+01, -4.4710934e+01,  1.2813130e+01,  1.0305299e+01,\n",
            "       -3.1707022e+01,  2.9791958e+00,  4.1516199e+00, -1.6072824e+01,\n",
            "        6.8347245e-01, -7.4328113e+00, -1.0649572e+01,  4.4193296e+00,\n",
            "       -1.1050238e+01, -1.0311474e+01,  4.5664268e+00, -1.0364788e+01,\n",
            "       -8.8374434e+00,  1.8796240e+00, -1.0767054e+01, -6.9543581e+00,\n",
            "        1.3411757e-01, -1.0548174e+01, -5.1203299e+00, -2.1236368e-01,\n",
            "       -8.1966486e+00, -2.4453180e+00], dtype=float32)]\n",
            "label ex:  [1]\n"
          ],
          "name": "stdout"
        }
      ]
    },
    {
      "cell_type": "code",
      "metadata": {
        "id": "tY7ZSSXpZHBR"
      },
      "source": [
        "# converting arrays to np_array\n",
        "\n",
        "data_np = np.array(data_list)\n",
        "label_np = np.array(data_label)"
      ],
      "execution_count": 118,
      "outputs": []
    },
    {
      "cell_type": "code",
      "metadata": {
        "colab": {
          "base_uri": "https://localhost:8080/"
        },
        "id": "3LrbqeOOaWTa",
        "outputId": "9a6c3f1e-5fac-4cab-a607-e94ef13ec322"
      },
      "source": [
        "\"\"\"\n",
        "cutting the data_set into three portions: train, validation, test\n",
        "using train_test_split:\n",
        "first we chop 80% of data for train and put remaining 20% into tmp\n",
        "then we will chop 50% of tmp (10% of total) into test and the remaining data (10% of total) into valid\n",
        "\"\"\"\n",
        "x_train, x_temp, y_train, y_temp = train_test_split(data_np, label_np, test_size=0.2, random_state=42)\n",
        "x_test, x_valid, y_test, y_valid = train_test_split(x_temp, y_temp, test_size=0.5, random_state=42)\n",
        "\n",
        "print(len(x_train))\n",
        "print(len(x_valid))\n",
        "print(len(x_test))"
      ],
      "execution_count": 119,
      "outputs": [
        {
          "output_type": "stream",
          "text": [
            "2246\n",
            "281\n",
            "281\n"
          ],
          "name": "stdout"
        }
      ]
    },
    {
      "cell_type": "markdown",
      "metadata": {
        "id": "c7PwmObBZ5Ne"
      },
      "source": [
        "### Model"
      ]
    },
    {
      "cell_type": "code",
      "metadata": {
        "colab": {
          "base_uri": "https://localhost:8080/"
        },
        "id": "E__bgbFzaX9i",
        "outputId": "faea17b1-6dee-4dce-d2a1-3ac6da770c2c"
      },
      "source": [
        "\"\"\"\n",
        "we will use keras to create our model:\n",
        "\n",
        "input layer should be 30 nodes since we have 30 features extracted\n",
        "first hidden layer is 120 nodes\n",
        "second hidden layer is also 120 nodes\n",
        "drop out\n",
        "output layer should be 10 nodes since we have digits 0 to 9\n",
        "\n",
        "source available in: https://keras.io/api/models/model/#model-class\n",
        "\"\"\"\n",
        "\n",
        "# clear the [previous] model\n",
        "# available in: https://stackoverflow.com/questions/52133347/how-can-i-clear-a-model-created-with-keras-and-tensorflowas-backend\n",
        "tf.keras.backend.clear_session()\n",
        "\n",
        "# create model\n",
        "model = tf.keras.models.Sequential([\n",
        "    tf.keras.layers.InputLayer(input_shape=(samples,)),\n",
        "    tf.keras.layers.Dense(120, activation='relu'),\n",
        "    tf.keras.layers.Dense(120, activation='relu'),\n",
        "    tf.keras.layers.Dropout(0.2),\n",
        "    tf.keras.layers.Dense(10)])\n",
        "\n",
        "# summary method available in: https://keras.io/api/models/model/#summary-method\n",
        "model.summary()"
      ],
      "execution_count": 120,
      "outputs": [
        {
          "output_type": "stream",
          "text": [
            "Model: \"sequential\"\n",
            "_________________________________________________________________\n",
            "Layer (type)                 Output Shape              Param #   \n",
            "=================================================================\n",
            "dense (Dense)                (None, 120)               3720      \n",
            "_________________________________________________________________\n",
            "dense_1 (Dense)              (None, 120)               14520     \n",
            "_________________________________________________________________\n",
            "dropout (Dropout)            (None, 120)               0         \n",
            "_________________________________________________________________\n",
            "dense_2 (Dense)              (None, 10)                1210      \n",
            "=================================================================\n",
            "Total params: 19,450\n",
            "Trainable params: 19,450\n",
            "Non-trainable params: 0\n",
            "_________________________________________________________________\n"
          ],
          "name": "stdout"
        }
      ]
    },
    {
      "cell_type": "code",
      "metadata": {
        "id": "CvNKf_9OnaI4"
      },
      "source": [
        "# set compile options\n",
        "\n",
        "\"\"\"\n",
        "defining optimizer:\n",
        "available in: https://keras.io/api/optimizers/\n",
        "\n",
        "choosing adam optimizzer:\n",
        "help: https://www.dlology.com/blog/quick-notes-on-how-to-choose-optimizer-in-keras/\n",
        "\n",
        "\n",
        "choosing SparseCategoricalCrossentropy loss function:\n",
        "https://keras.io/api/losses/probabilistic_losses/#categoricalcrossentropy-class\n",
        "https://keras.io/api/losses/probabilistic_losses/#sparsecategoricalcrossentropy-class\n",
        "from two fourms above we conclude that:\n",
        "if we have \"one_hot\" label representation we should use : CategoricalCrossentropy\n",
        "and if we have \"Integer\" labels we should use : SparseCategoricalCrossentropy\n",
        "here we have Integers\n",
        "\n",
        "defining accuracy metric\n",
        "available in: https://keras.io/api/metrics/accuracy_metrics/\n",
        "\"\"\"\n",
        "\n",
        "model.compile(optimizer='adam',\n",
        "              loss=tf.keras.losses.SparseCategoricalCrossentropy(from_logits=True),\n",
        "              metrics=['accuracy'])"
      ],
      "execution_count": 122,
      "outputs": []
    },
    {
      "cell_type": "markdown",
      "metadata": {
        "id": "nFcTwWn0hlg3"
      },
      "source": [
        "###Train"
      ]
    },
    {
      "cell_type": "code",
      "metadata": {
        "colab": {
          "base_uri": "https://localhost:8080/"
        },
        "id": "Ou6h4blT4Dio",
        "outputId": "df692d0a-98ec-4a27-80db-c66e3c6aa10f"
      },
      "source": [
        "# training the model and collection the loss and accuracy in each epoch\n",
        "\n",
        "epochs = 25\n",
        "\n",
        "# two list for collecting evaluation data\n",
        "evals_vaild = [[], []]\n",
        "evals_train = [[], []]\n",
        "\n",
        "# traiing model in n epoches and batch_size=3\n",
        "for i in range(epochs):\n",
        "    print(i)\n",
        "    model.fit(x_train, y_train, batch_size=3)\n",
        "    # collecting evaluations\n",
        "    evaluate_valid = model.evaluate(x_valid, y_valid)\n",
        "    evaluate_train = model.evaluate(x_train, y_train)\n",
        "\n",
        "    evals_vaild[0].append(evaluate_valid[0])\n",
        "    evals_vaild[1].append(evaluate_valid[1])\n",
        "    evals_train[0].append(evaluate_train[0])\n",
        "    evals_train[1].append(evaluate_train[1])\n"
      ],
      "execution_count": 123,
      "outputs": [
        {
          "output_type": "stream",
          "text": [
            "0\n",
            "749/749 [==============================] - 1s 2ms/step - loss: 5.7775 - accuracy: 0.3054\n",
            "9/9 [==============================] - 0s 2ms/step - loss: 1.2320 - accuracy: 0.5196\n",
            "71/71 [==============================] - 0s 1ms/step - loss: 1.2866 - accuracy: 0.4862\n",
            "1\n",
            "749/749 [==============================] - 1s 2ms/step - loss: 1.4443 - accuracy: 0.4492\n",
            "9/9 [==============================] - 0s 1ms/step - loss: 1.0450 - accuracy: 0.5801\n",
            "71/71 [==============================] - 0s 1ms/step - loss: 1.0729 - accuracy: 0.5841\n",
            "2\n",
            "749/749 [==============================] - 1s 1ms/step - loss: 1.2076 - accuracy: 0.5187\n",
            "9/9 [==============================] - 0s 2ms/step - loss: 0.9537 - accuracy: 0.6050\n",
            "71/71 [==============================] - 0s 1ms/step - loss: 1.0302 - accuracy: 0.5877\n",
            "3\n",
            "749/749 [==============================] - 1s 2ms/step - loss: 1.0721 - accuracy: 0.5806\n",
            "9/9 [==============================] - 0s 2ms/step - loss: 0.7248 - accuracy: 0.7153\n",
            "71/71 [==============================] - 0s 1ms/step - loss: 0.7348 - accuracy: 0.7128\n",
            "4\n",
            "749/749 [==============================] - 1s 1ms/step - loss: 0.9725 - accuracy: 0.6256\n",
            "9/9 [==============================] - 0s 2ms/step - loss: 0.6556 - accuracy: 0.7616\n",
            "71/71 [==============================] - 0s 1ms/step - loss: 0.6617 - accuracy: 0.7217\n",
            "5\n",
            "749/749 [==============================] - 1s 2ms/step - loss: 0.8523 - accuracy: 0.6732\n",
            "9/9 [==============================] - 0s 2ms/step - loss: 0.6428 - accuracy: 0.7580\n",
            "71/71 [==============================] - 0s 1ms/step - loss: 0.6500 - accuracy: 0.7636\n",
            "6\n",
            "749/749 [==============================] - 1s 1ms/step - loss: 0.7709 - accuracy: 0.7182\n",
            "9/9 [==============================] - 0s 2ms/step - loss: 0.4602 - accuracy: 0.8114\n",
            "71/71 [==============================] - 0s 1ms/step - loss: 0.4624 - accuracy: 0.8246\n",
            "7\n",
            "749/749 [==============================] - 1s 1ms/step - loss: 0.6848 - accuracy: 0.7507\n",
            "9/9 [==============================] - 0s 2ms/step - loss: 0.4875 - accuracy: 0.8399\n",
            "71/71 [==============================] - 0s 1ms/step - loss: 0.6002 - accuracy: 0.7956\n",
            "8\n",
            "749/749 [==============================] - 1s 1ms/step - loss: 0.6249 - accuracy: 0.7667\n",
            "9/9 [==============================] - 0s 2ms/step - loss: 0.4990 - accuracy: 0.8256\n",
            "71/71 [==============================] - 0s 996us/step - loss: 0.4898 - accuracy: 0.8228\n",
            "9\n",
            "749/749 [==============================] - 1s 2ms/step - loss: 0.5703 - accuracy: 0.7907\n",
            "9/9 [==============================] - 0s 1ms/step - loss: 0.4297 - accuracy: 0.8221\n",
            "71/71 [==============================] - 0s 1ms/step - loss: 0.4319 - accuracy: 0.8424\n",
            "10\n",
            "749/749 [==============================] - 1s 2ms/step - loss: 0.4816 - accuracy: 0.8308\n",
            "9/9 [==============================] - 0s 2ms/step - loss: 0.2745 - accuracy: 0.9075\n",
            "71/71 [==============================] - 0s 1ms/step - loss: 0.2737 - accuracy: 0.9074\n",
            "11\n",
            "749/749 [==============================] - 1s 2ms/step - loss: 0.4376 - accuracy: 0.8442\n",
            "9/9 [==============================] - 0s 2ms/step - loss: 0.2950 - accuracy: 0.8861\n",
            "71/71 [==============================] - 0s 1ms/step - loss: 0.2953 - accuracy: 0.8958\n",
            "12\n",
            "749/749 [==============================] - 1s 2ms/step - loss: 0.4405 - accuracy: 0.8442\n",
            "9/9 [==============================] - 0s 2ms/step - loss: 0.2637 - accuracy: 0.9110\n",
            "71/71 [==============================] - 0s 1ms/step - loss: 0.2007 - accuracy: 0.9368\n",
            "13\n",
            "749/749 [==============================] - 1s 1ms/step - loss: 0.4247 - accuracy: 0.8540\n",
            "9/9 [==============================] - 0s 2ms/step - loss: 0.2750 - accuracy: 0.9181\n",
            "71/71 [==============================] - 0s 1000us/step - loss: 0.2244 - accuracy: 0.9190\n",
            "14\n",
            "749/749 [==============================] - 1s 1ms/step - loss: 0.3552 - accuracy: 0.8762\n",
            "9/9 [==============================] - 0s 2ms/step - loss: 0.2817 - accuracy: 0.8932\n",
            "71/71 [==============================] - 0s 1ms/step - loss: 0.2315 - accuracy: 0.9154\n",
            "15\n",
            "749/749 [==============================] - 1s 1ms/step - loss: 0.3634 - accuracy: 0.8749\n",
            "9/9 [==============================] - 0s 2ms/step - loss: 0.4874 - accuracy: 0.8754\n",
            "71/71 [==============================] - 0s 1ms/step - loss: 0.2792 - accuracy: 0.9012\n",
            "16\n",
            "749/749 [==============================] - 1s 1ms/step - loss: 0.2850 - accuracy: 0.8954\n",
            "9/9 [==============================] - 0s 2ms/step - loss: 0.2406 - accuracy: 0.9181\n",
            "71/71 [==============================] - 0s 1ms/step - loss: 0.2463 - accuracy: 0.9203\n",
            "17\n",
            "749/749 [==============================] - 1s 1ms/step - loss: 0.3454 - accuracy: 0.8878\n",
            "9/9 [==============================] - 0s 2ms/step - loss: 0.1864 - accuracy: 0.9324\n",
            "71/71 [==============================] - 0s 1ms/step - loss: 0.1523 - accuracy: 0.9466\n",
            "18\n",
            "749/749 [==============================] - 1s 2ms/step - loss: 0.3236 - accuracy: 0.8954\n",
            "9/9 [==============================] - 0s 2ms/step - loss: 0.3347 - accuracy: 0.8861\n",
            "71/71 [==============================] - 0s 1ms/step - loss: 0.2474 - accuracy: 0.9052\n",
            "19\n",
            "749/749 [==============================] - 1s 2ms/step - loss: 0.2378 - accuracy: 0.9199\n",
            "9/9 [==============================] - 0s 2ms/step - loss: 0.3617 - accuracy: 0.9075\n",
            "71/71 [==============================] - 0s 1ms/step - loss: 0.2506 - accuracy: 0.9114\n",
            "20\n",
            "749/749 [==============================] - 1s 2ms/step - loss: 0.2996 - accuracy: 0.9003\n",
            "9/9 [==============================] - 0s 2ms/step - loss: 0.4575 - accuracy: 0.8612\n",
            "71/71 [==============================] - 0s 1ms/step - loss: 0.3065 - accuracy: 0.9061\n",
            "21\n",
            "749/749 [==============================] - 1s 2ms/step - loss: 0.2304 - accuracy: 0.9234\n",
            "9/9 [==============================] - 0s 2ms/step - loss: 0.2940 - accuracy: 0.9217\n",
            "71/71 [==============================] - 0s 1ms/step - loss: 0.1584 - accuracy: 0.9421\n",
            "22\n",
            "749/749 [==============================] - 1s 2ms/step - loss: 0.2610 - accuracy: 0.9136\n",
            "9/9 [==============================] - 0s 2ms/step - loss: 0.1526 - accuracy: 0.9502\n",
            "71/71 [==============================] - 0s 1ms/step - loss: 0.1176 - accuracy: 0.9599\n",
            "23\n",
            "749/749 [==============================] - 1s 2ms/step - loss: 0.2605 - accuracy: 0.9087\n",
            "9/9 [==============================] - 0s 2ms/step - loss: 0.1810 - accuracy: 0.9537\n",
            "71/71 [==============================] - 0s 1ms/step - loss: 0.1696 - accuracy: 0.9484\n",
            "24\n",
            "749/749 [==============================] - 1s 1ms/step - loss: 0.2366 - accuracy: 0.9185\n",
            "9/9 [==============================] - 0s 2ms/step - loss: 0.2165 - accuracy: 0.9359\n",
            "71/71 [==============================] - 0s 1ms/step - loss: 0.1382 - accuracy: 0.9510\n"
          ],
          "name": "stdout"
        }
      ]
    },
    {
      "cell_type": "markdown",
      "metadata": {
        "id": "C70aaBBPhriK"
      },
      "source": [
        "###Plots"
      ]
    },
    {
      "cell_type": "code",
      "metadata": {
        "colab": {
          "base_uri": "https://localhost:8080/",
          "height": 498
        },
        "id": "v_OiG1ixeS_U",
        "outputId": "aae1e4d9-8961-4ba9-d999-a07b3cb04205"
      },
      "source": [
        "# drawing the plot for accuacy and loss in train and valid\n",
        "\n",
        "plt.figure(figsize=(30,8))\n",
        "plt.subplot(1,2,1)\n",
        "plt.ylim([0,1])\n",
        "plt.plot(range(epochs),evals_train[1],label=\"train\")\n",
        "plt.plot(range(epochs),evals_vaild[1],label=\"validation\")\n",
        "plt.legend()\n",
        "plt.title(\"Accuracy\")\n",
        "plt.subplot(1,2,2)\n",
        "plt.ylim([0,1])\n",
        "plt.plot(range(epochs),evals_train[0],label=\"train\")\n",
        "plt.plot(range(epochs),evals_vaild[0],label=\"validation\")\n",
        "plt.legend()\n",
        "plt.title(\"Loss\")\n",
        "plt.show()"
      ],
      "execution_count": 124,
      "outputs": [
        {
          "output_type": "display_data",
          "data": {
            "image/png": "[encoded data removed]",
            "text/plain": [
              "<Figure size 2160x576 with 2 Axes>"
            ]
          },
          "metadata": {
            "tags": [],
            "needs_background": "light"
          }
        }
      ]
    },
    {
      "cell_type": "markdown",
      "metadata": {
        "id": "z8vG-JvGhuf2"
      },
      "source": [
        "###TEST"
      ]
    },
    {
      "cell_type": "code",
      "metadata": {
        "colab": {
          "base_uri": "https://localhost:8080/"
        },
        "id": "9-EXbWR0J5Ht",
        "outputId": "4422f6b9-cf35-4b85-d597-f85c9a5ca379"
      },
      "source": [
        "# evaluating model\n",
        "# available in: https://keras.io/guides/training_with_built_in_methods/\n",
        "\n",
        "model.evaluate(x_test,  y_test)"
      ],
      "execution_count": 125,
      "outputs": [
        {
          "output_type": "stream",
          "text": [
            "9/9 [==============================] - 0s 2ms/step - loss: 0.2870 - accuracy: 0.8968\n"
          ],
          "name": "stdout"
        },
        {
          "output_type": "execute_result",
          "data": {
            "text/plain": [
              "[0.2869764566421509, 0.8967971801757812]"
            ]
          },
          "metadata": {
            "tags": []
          },
          "execution_count": 125
        }
      ]
    },
    {
      "cell_type": "code",
      "metadata": {
        "id": "qv8qh2wCKa57",
        "colab": {
          "base_uri": "https://localhost:8080/"
        },
        "outputId": "8066e6bd-cbfc-4483-ad4e-0d68dfc917ee"
      },
      "source": [
        "# testing some inputs to see the result\n",
        "# we can see that usualldy the label found in the second command has the largest value in the first array\n",
        "arr = model(x_test[40:41])\n",
        "print(arr)\n",
        "answer = np.argmax(arr)\n",
        "print(answer)\n",
        "print(y_test[40:41])"
      ],
      "execution_count": 126,
      "outputs": [
        {
          "output_type": "stream",
          "text": [
            "tf.Tensor(\n",
            "[[-22.54014   -27.479403  -25.071146   -0.5770526  -9.937819  -18.106712\n",
            "    3.119249  -15.832252   23.479017  -21.747025 ]], shape=(1, 10), dtype=float32)\n",
            "8\n",
            "[8]\n"
          ],
          "name": "stdout"
        }
      ]
    },
    {
      "cell_type": "markdown",
      "metadata": {
        "id": "NE2fS1c7h0f8"
      },
      "source": [
        "### Saving and Loading model from files"
      ]
    },
    {
      "cell_type": "code",
      "metadata": {
        "id": "EuT1mlgnKlnP",
        "colab": {
          "base_uri": "https://localhost:8080/"
        },
        "outputId": "c77d50d1-3ed5-4794-84f9-1680ea9584b5"
      },
      "source": [
        "# saving model\n",
        "# available in: https://keras.io/api/models/model_saving_apis\n",
        "\n",
        "tf.keras.models.save_model(\n",
        "    model,\n",
        "    filepath=dir + \"model\",\n",
        "    overwrite=True,\n",
        "    include_optimizer=True,\n",
        "    save_format=None,\n",
        "    signatures=None,\n",
        "    options=None,\n",
        "    save_traces=True,\n",
        ")"
      ],
      "execution_count": 135,
      "outputs": [
        {
          "output_type": "stream",
          "text": [
            "INFO:tensorflow:Assets written to: /content/drive/MyDrive/CI_files/Spoken_Digit_Classification/model/assets\n"
          ],
          "name": "stdout"
        }
      ]
    },
    {
      "cell_type": "code",
      "metadata": {
        "id": "qSzuyFHwLgzH"
      },
      "source": [
        "# loading model\n",
        "# available in: https://keras.io/api/models/model_saving_apis\n",
        "\n",
        "model = tf.keras.models.load_model(\n",
        "    filepath=dir + \"model\", custom_objects=None, compile=True, options=None\n",
        ")"
      ],
      "execution_count": 136,
      "outputs": []
    },
    {
      "cell_type": "markdown",
      "metadata": {
        "id": "Kx0eRfEwh5qB"
      },
      "source": [
        "#Testing with file\n",
        "####!!!!please import libs and set dir addr from first cells above"
      ]
    },
    {
      "cell_type": "code",
      "metadata": {
        "id": "cggbE19vQ2Li"
      },
      "source": [
        "# a code to generate featers array from a non_cutted audio file\n",
        "\n",
        "def create_audio_array(file_path, samples, scale=1):\n",
        "    cut(file_path, dir + \"Audio/tmp.wav\", scale)\n",
        "    np_array = audio_to_array(dir + \"Audio/tmp.wav\", samples)\n",
        "    return np_array\n",
        "\n",
        "\n",
        "# removing silence\n",
        "def cut(file_path, des_path, scale=1.5, leng=200):\n",
        "    audio = AudioSegment.from_wav(file_path)\n",
        "\n",
        "    # loudness = -40 if int(audio.dBFS) > -40 else int(audio.dBFS)-5\n",
        "    loudness = int(audio.dBFS * scale)\n",
        "    print(\"file mean loudness:\", int(audio.dBFS))\n",
        "    print(\"loudness limit:\", loudness, \"\\n\")\n",
        "    audio_chunks = split_on_silence(audio, min_silence_len=leng, silence_thresh=loudness)\n",
        "\n",
        "    # if code coudnt find a part -> try shortning the silence limit\n",
        "    if len(audio_chunks) == 0 and leng > 50:\n",
        "        cut(audio, leng=leng - 20)\n",
        "    elif len(audio_chunks) > 0:\n",
        "        audio_chunks[0].export(des_path, format=\"wav\")\n",
        "\n",
        "\n",
        "def audio_to_array(audio_path, samples):\n",
        "    data, sampling_rate = librosa.load(str(audio_path))\n",
        "    mfccs = np.mean(librosa.feature.mfcc(y=data, sr=sampling_rate, n_mfcc=samples), axis=1)\n",
        "\n",
        "    data_np = np.array([mfccs])\n",
        "    return data_np"
      ],
      "execution_count": 137,
      "outputs": []
    },
    {
      "cell_type": "code",
      "metadata": {
        "id": "Ew4cK-0VRehR",
        "colab": {
          "base_uri": "https://localhost:8080/"
        },
        "outputId": "7f421414-1afe-4a8a-cc4e-ca19508dd448"
      },
      "source": [
        "# a code for testing files\n",
        "\n",
        "sounds_dir = dir + \"Audio/cut_silence/\"\n",
        "# integer of samples per audio\n",
        "samples = 30\n",
        "# importing the audio file names into \"mylist\" array\n",
        "mylist = os.listdir(sounds_dir)\n",
        "\n",
        "\n",
        "\n",
        "# please set this index for selecting file\n",
        "# wrong e.g.: 377\n",
        "sound_index = 390\n",
        "\n",
        "\n",
        "\n",
        "\n",
        "array = create_audio_array(dir + \"Audio/raw_recordings/\" + mylist[sound_index], samples, scale=1.5)\n",
        "print(array, \"\\n\")\n",
        "arr = model(array)\n",
        "answer = np.argmax(arr)\n",
        "print(\"Prediction:\", answer)\n",
        "print(\"file label: \", mylist[sound_index][0], \"\\n\")\n",
        "\n",
        "if int(mylist[sound_index][0]) == int(answer):\n",
        "    print(\"True :)\")\n",
        "else:\n",
        "    print(\"Sadly we predict wrong :(\")"
      ],
      "execution_count": 138,
      "outputs": [
        {
          "output_type": "stream",
          "text": [
            "file mean loudness: -44\n",
            "loudness limit: -66 \n",
            "\n",
            "[[-5.5393127e+02  2.1461464e+02 -7.0349030e+01  3.3195274e+01\n",
            "   3.5580261e+01 -4.5635159e+01  1.9613323e+00 -4.5054021e+00\n",
            "  -2.9100040e+01  1.3994744e+01 -6.5903610e-01 -2.3463757e+01\n",
            "   5.6005184e-02 -6.5885234e+00 -6.9022932e+00  1.0257370e+00\n",
            "  -2.0399687e+01 -7.1965890e+00  8.7653379e+00 -1.7387270e+01\n",
            "  -1.1913288e+01  2.1683264e+00 -1.2332989e+01 -9.0117204e-01\n",
            "   6.1883845e+00 -1.3248671e+01 -6.0444331e+00  2.6894145e+00\n",
            "  -5.6107135e+00  4.8617952e-02]] \n",
            "\n",
            "Prediction: 7\n",
            "file label:  7 \n",
            "\n",
            "True :)\n"
          ],
          "name": "stdout"
        }
      ]
    }
  ]
}