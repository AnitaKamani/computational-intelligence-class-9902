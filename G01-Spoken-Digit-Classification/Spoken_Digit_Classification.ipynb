{
  "nbformat": 4,
  "nbformat_minor": 0,
  "metadata": {
    "colab": {
      "name": "Spoken_Digit_Classification.ipynb",
      "provenance": [],
      "collapsed_sections": [
        "Kx0eRfEwh5qB"
      ],
      "include_colab_link": true
    },
    "kernelspec": {
      "name": "python3",
      "display_name": "Python 3"
    },
    "language_info": {
      "name": "python"
    },
    "accelerator": "GPU"
  },
  "cells": [
    {
      "cell_type": "markdown",
      "metadata": {
        "id": "view-in-github",
        "colab_type": "text"
      },
      "source": [
        "<a href=\"https://colab.research.google.com/github/AnitaKamani/computational-intelligence-class-9902/blob/G01-Spoken-Digit-Classification/G01-Spoken-Digit-Classification/Spoken_Digit_Classification.ipynb\" target=\"_parent\"><img src=\"https://colab.research.google.com/assets/colab-badge.svg\" alt=\"Open In Colab\"/></a>"
      ]
    },
    {
      "cell_type": "code",
      "metadata": {
        "colab": {
          "base_uri": "https://localhost:8080/"
        },
        "id": "vUsY8mlR1VDY",
        "outputId": "3d68b31e-dd52-4754-ac36-edac136370a8"
      },
      "source": [
        "pip install pydub"
      ],
      "execution_count": null,
      "outputs": [
        {
          "output_type": "stream",
          "text": [
            "Requirement already satisfied: pydub in /usr/local/lib/python3.7/dist-packages (0.25.1)\n"
          ],
          "name": "stdout"
        }
      ]
    },
    {
      "cell_type": "code",
      "metadata": {
        "colab": {
          "base_uri": "https://localhost:8080/"
        },
        "id": "CClWvtRuUeYS",
        "outputId": "d3b90786-e22f-49d7-c884-ceff2aa04ac9"
      },
      "source": [
        "# connecting to google drive\n",
        "\n",
        "from google.colab import drive\n",
        "drive.mount('/content/drive')"
      ],
      "execution_count": null,
      "outputs": [
        {
          "output_type": "stream",
          "text": [
            "Mounted at /content/drive\n"
          ],
          "name": "stdout"
        }
      ]
    },
    {
      "cell_type": "markdown",
      "metadata": {
        "id": "bifSC5l3XnIf"
      },
      "source": [
        "### Importing libraries"
      ]
    },
    {
      "cell_type": "code",
      "metadata": {
        "id": "3fq-VUWHUmLx"
      },
      "source": [
        "import os\n",
        "from tqdm import tqdm\n",
        "import random\n",
        "import librosa\n",
        "import numpy as np\n",
        "from sklearn.model_selection import train_test_split\n",
        "import tensorflow as tf\n",
        "import matplotlib.pyplot as plt"
      ],
      "execution_count": null,
      "outputs": []
    },
    {
      "cell_type": "markdown",
      "metadata": {
        "id": "yk8ugdIZVNXT"
      },
      "source": [
        "### Importing datas and feature extracting"
      ]
    },
    {
      "cell_type": "code",
      "metadata": {
        "id": "QoCzGhilUvW3"
      },
      "source": [
        "# sound directory of cut silence audio\n",
        "\n",
        "dir = '/content/drive/MyDrive/CI_files/Spoken_Digit_Classification/'"
      ],
      "execution_count": null,
      "outputs": []
    },
    {
      "cell_type": "code",
      "metadata": {
        "id": "hMQFXdmOUx_g",
        "colab": {
          "base_uri": "https://localhost:8080/"
        },
        "outputId": "f649f7fd-334d-4478-d335-3062fa197383"
      },
      "source": [
        "# importing audios and collecting labels\n",
        "\n",
        "sounds_dir = dir + \"Audio/cut_silence/\"\n",
        "# integer of sampels per audio\n",
        "samples=30\n",
        "# list for data\n",
        "data_list = []\n",
        "# list for label\n",
        "data_label = []\n",
        "# importing the audio file names into \"mylist\" array\n",
        "mylist = os.listdir(sounds_dir)\n",
        "# shuffling audio names\n",
        "random.shuffle(mylist)\n",
        "\n",
        "# using tqdm for showing a progress bar \n",
        "for i in tqdm(range(len(mylist)), position=0, leave=True):\n",
        "    # making file path for each file\n",
        "    path = sounds_dir + mylist[i]\n",
        "    # using librosa to extract data and sampling_rate from audios\n",
        "    data, sampling_rate = librosa.load(path)\n",
        "    # extracting audio feature using mfcc number of rows = samples \n",
        "    # according to file length we have feature number of columns\n",
        "    # but using np.mean with axis 1 we are able to convert (samples,col) shape into (samples,) shape\n",
        "    # this function calculates the average of each row\n",
        "    mfccs = np.mean(librosa.feature.mfcc(y=data, sr=sampling_rate, n_mfcc=samples), axis=1)\n",
        "    # appending mfccs to data_list\n",
        "    data_list.append(mfccs)\n",
        "    # appending labels collected from first char of the name of each audio file ex: 9_yweweler_48.wav -> label='9'\n",
        "    data_label.append(int(mylist[i][0]))"
      ],
      "execution_count": null,
      "outputs": [
        {
          "output_type": "stream",
          "text": [
            "100%|██████████| 2808/2808 [00:53<00:00, 52.92it/s]\n"
          ],
          "name": "stderr"
        }
      ]
    },
    {
      "cell_type": "code",
      "metadata": {
        "id": "aYIK-yivUzsU",
        "colab": {
          "base_uri": "https://localhost:8080/"
        },
        "outputId": "0c29b942-c72e-43e3-8ece-9bb2e00cc050"
      },
      "source": [
        "# length and example\n",
        "\n",
        "print(\"number of data: \", len(data_list))\n",
        "print(\"number of label: \", len(data_label))\n",
        "print(\"data ex: \", data_list[10:11])\n",
        "print(\"label ex: \", data_label[10:11])"
      ],
      "execution_count": null,
      "outputs": [
        {
          "output_type": "stream",
          "text": [
            "number of data:  2808\n",
            "number of label:  2808\n",
            "data ex:  [array([-548.5122    ,  166.13968   ,  -66.13242   ,   44.67197   ,\n",
            "         38.86034   ,  -47.4652    ,   -4.0596566 ,   -8.832043  ,\n",
            "        -30.090097  ,    3.5134807 ,  -17.342863  ,  -21.36366   ,\n",
            "         12.159886  ,   -4.4861965 ,   -2.267304  ,    9.768618  ,\n",
            "        -15.463841  ,    0.7378615 ,   13.42748   ,  -18.990982  ,\n",
            "         -7.781482  ,    4.8500385 ,  -19.259123  ,   -8.833177  ,\n",
            "          2.3469172 ,   -8.304173  ,    2.036557  ,   -0.60702324,\n",
            "        -10.933233  ,    1.5726228 ], dtype=float32)]\n",
            "label ex:  [6]\n"
          ],
          "name": "stdout"
        }
      ]
    },
    {
      "cell_type": "code",
      "metadata": {
        "id": "tY7ZSSXpZHBR"
      },
      "source": [
        "# converting arrays to np_array\n",
        "\n",
        "data_np = np.array(data_list)\n",
        "label_np = np.array(data_label)"
      ],
      "execution_count": null,
      "outputs": []
    },
    {
      "cell_type": "code",
      "metadata": {
        "colab": {
          "base_uri": "https://localhost:8080/"
        },
        "id": "3LrbqeOOaWTa",
        "outputId": "95900599-0d85-4199-f265-e1a9d32798b1"
      },
      "source": [
        "\"\"\"\n",
        "cutting the data_set into three portions: train, validation, test\n",
        "using train_test_split:\n",
        "first we chop 80% of data for train and put remaining 20% into tmp\n",
        "then we will chop 50% of tmp (10% of total) into test and the remaining data (10% of total) into valid\n",
        "\"\"\"\n",
        "x_train, x_temp, y_train, y_temp = train_test_split(data_np, label_np, test_size=0.2, random_state=42)\n",
        "x_test, x_valid, y_test, y_valid = train_test_split(x_temp, y_temp, test_size=0.5, random_state=42)\n",
        "\n",
        "print(len(x_train))\n",
        "print(len(x_valid))\n",
        "print(len(x_test))"
      ],
      "execution_count": null,
      "outputs": [
        {
          "output_type": "stream",
          "text": [
            "2246\n",
            "281\n",
            "281\n"
          ],
          "name": "stdout"
        }
      ]
    },
    {
      "cell_type": "markdown",
      "metadata": {
        "id": "c7PwmObBZ5Ne"
      },
      "source": [
        "### Model"
      ]
    },
    {
      "cell_type": "code",
      "metadata": {
        "colab": {
          "base_uri": "https://localhost:8080/"
        },
        "id": "E__bgbFzaX9i",
        "outputId": "3880f4fe-a658-4fc6-8318-3a702fd21881"
      },
      "source": [
        "\"\"\"\n",
        "we will use keras to create our model:\n",
        "\n",
        "input layer should be 30 nodes since we have 30 features extracted\n",
        "first hidden layer is 120 nodes\n",
        "second hidden layer is also 120 nodes\n",
        "drop out\n",
        "output layer should be 10 nodes since we have digits 0 to 9\n",
        "\n",
        "source available in: https://keras.io/api/models/model/#model-class\n",
        "\"\"\"\n",
        "\n",
        "# clear the [previous] model\n",
        "# available in: https://stackoverflow.com/questions/52133347/how-can-i-clear-a-model-created-with-keras-and-tensorflowas-backend\n",
        "tf.keras.backend.clear_session()\n",
        "\n",
        "# create model\n",
        "model = tf.keras.models.Sequential([\n",
        "    tf.keras.layers.InputLayer(input_shape=(samples,)),\n",
        "    tf.keras.layers.Dense(120, activation='relu'),\n",
        "    tf.keras.layers.Dense(120, activation='relu'),\n",
        "    tf.keras.layers.Dropout(0.2),\n",
        "    tf.keras.layers.Dense(10)])\n",
        "\n",
        "# summary method available in: https://keras.io/api/models/model/#summary-method\n",
        "model.summary()"
      ],
      "execution_count": null,
      "outputs": [
        {
          "output_type": "stream",
          "text": [
            "Model: \"sequential\"\n",
            "_________________________________________________________________\n",
            "Layer (type)                 Output Shape              Param #   \n",
            "=================================================================\n",
            "dense (Dense)                (None, 120)               3720      \n",
            "_________________________________________________________________\n",
            "dense_1 (Dense)              (None, 120)               14520     \n",
            "_________________________________________________________________\n",
            "dropout (Dropout)            (None, 120)               0         \n",
            "_________________________________________________________________\n",
            "dense_2 (Dense)              (None, 10)                1210      \n",
            "=================================================================\n",
            "Total params: 19,450\n",
            "Trainable params: 19,450\n",
            "Non-trainable params: 0\n",
            "_________________________________________________________________\n"
          ],
          "name": "stdout"
        }
      ]
    },
    {
      "cell_type": "code",
      "metadata": {
        "id": "CvNKf_9OnaI4"
      },
      "source": [
        "# set compile options\n",
        "\n",
        "\"\"\"\n",
        "defining optimizer:\n",
        "available in: https://keras.io/api/optimizers/\n",
        "\n",
        "choosing adam optimizzer:\n",
        "help: https://www.dlology.com/blog/quick-notes-on-how-to-choose-optimizer-in-keras/\n",
        "\n",
        "\n",
        "choosing SparseCategoricalCrossentropy loss function:\n",
        "https://keras.io/api/losses/probabilistic_losses/#categoricalcrossentropy-class\n",
        "https://keras.io/api/losses/probabilistic_losses/#sparsecategoricalcrossentropy-class\n",
        "from two fourms above we conclude that:\n",
        "if we have \"one_hot\" label representation we should use : CategoricalCrossentropy\n",
        "and if we have \"Integer\" labels we should use : SparseCategoricalCrossentropy\n",
        "here we have Integers\n",
        "\n",
        "defining accuracy metric\n",
        "available in: https://keras.io/api/metrics/accuracy_metrics/\n",
        "\"\"\"\n",
        "\n",
        "model.compile(optimizer='adam',\n",
        "              loss=tf.keras.losses.SparseCategoricalCrossentropy(from_logits=True),\n",
        "              metrics=['accuracy'])"
      ],
      "execution_count": null,
      "outputs": []
    },
    {
      "cell_type": "markdown",
      "metadata": {
        "id": "nFcTwWn0hlg3"
      },
      "source": [
        "###Train"
      ]
    },
    {
      "cell_type": "code",
      "metadata": {
        "colab": {
          "base_uri": "https://localhost:8080/"
        },
        "id": "Ou6h4blT4Dio",
        "outputId": "6f1fcb1a-0b88-40ca-8c39-3889e946b3f4"
      },
      "source": [
        "# training the model and collection the loss and accuracy in each epoch\n",
        "\n",
        "epochs = 25\n",
        "\n",
        "# two list for collecting evaluation data\n",
        "evals_vaild = [[], []]\n",
        "evals_train = [[], []]\n",
        "\n",
        "# traiing model in n epoches and batch_size=3\n",
        "for i in range(epochs):\n",
        "    print(i)\n",
        "    model.fit(x_train, y_train, batch_size=3)\n",
        "    # collecting evaluations\n",
        "    evaluate_valid = model.evaluate(x_valid, y_valid)\n",
        "    evaluate_train = model.evaluate(x_train, y_train)\n",
        "\n",
        "    evals_vaild[0].append(evaluate_valid[0])\n",
        "    evals_vaild[1].append(evaluate_valid[1])\n",
        "    evals_train[0].append(evaluate_train[0])\n",
        "    evals_train[1].append(evaluate_train[1])\n"
      ],
      "execution_count": null,
      "outputs": [
        {
          "output_type": "stream",
          "text": [
            "0\n",
            "749/749 [==============================] - 2s 2ms/step - loss: 4.1286 - accuracy: 0.2747\n",
            "9/9 [==============================] - 0s 2ms/step - loss: 1.4898 - accuracy: 0.3950\n",
            "71/71 [==============================] - 0s 2ms/step - loss: 1.4171 - accuracy: 0.4662\n",
            "1\n",
            "749/749 [==============================] - 1s 2ms/step - loss: 1.6102 - accuracy: 0.3838\n",
            "9/9 [==============================] - 0s 2ms/step - loss: 1.2504 - accuracy: 0.5338\n",
            "71/71 [==============================] - 0s 1ms/step - loss: 1.2087 - accuracy: 0.5775\n",
            "2\n",
            "749/749 [==============================] - 1s 2ms/step - loss: 1.3052 - accuracy: 0.4951\n",
            "9/9 [==============================] - 0s 2ms/step - loss: 0.9406 - accuracy: 0.6121\n",
            "71/71 [==============================] - 0s 2ms/step - loss: 0.8910 - accuracy: 0.6768\n",
            "3\n",
            "749/749 [==============================] - 1s 2ms/step - loss: 1.1091 - accuracy: 0.5797\n",
            "9/9 [==============================] - 0s 2ms/step - loss: 0.8290 - accuracy: 0.6584\n",
            "71/71 [==============================] - 0s 2ms/step - loss: 0.7592 - accuracy: 0.7311\n",
            "4\n",
            "749/749 [==============================] - 1s 2ms/step - loss: 1.0015 - accuracy: 0.6153\n",
            "9/9 [==============================] - 0s 2ms/step - loss: 0.7569 - accuracy: 0.6690\n",
            "71/71 [==============================] - 0s 2ms/step - loss: 0.7460 - accuracy: 0.7427\n",
            "5\n",
            "749/749 [==============================] - 1s 2ms/step - loss: 0.8599 - accuracy: 0.6598\n",
            "9/9 [==============================] - 0s 2ms/step - loss: 0.5925 - accuracy: 0.7722\n",
            "71/71 [==============================] - 0s 2ms/step - loss: 0.5498 - accuracy: 0.8010\n",
            "6\n",
            "749/749 [==============================] - 1s 2ms/step - loss: 0.7855 - accuracy: 0.6986\n",
            "9/9 [==============================] - 0s 2ms/step - loss: 0.5695 - accuracy: 0.7580\n",
            "71/71 [==============================] - 0s 2ms/step - loss: 0.5068 - accuracy: 0.8188\n",
            "7\n",
            "749/749 [==============================] - 1s 2ms/step - loss: 0.7458 - accuracy: 0.7142\n",
            "9/9 [==============================] - 0s 2ms/step - loss: 0.5687 - accuracy: 0.7651\n",
            "71/71 [==============================] - 0s 2ms/step - loss: 0.5205 - accuracy: 0.8192\n",
            "8\n",
            "749/749 [==============================] - 1s 2ms/step - loss: 0.7072 - accuracy: 0.7476\n",
            "9/9 [==============================] - 0s 2ms/step - loss: 0.5147 - accuracy: 0.8043\n",
            "71/71 [==============================] - 0s 1ms/step - loss: 0.4156 - accuracy: 0.8593\n",
            "9\n",
            "749/749 [==============================] - 1s 2ms/step - loss: 0.6329 - accuracy: 0.7774\n",
            "9/9 [==============================] - 0s 2ms/step - loss: 0.3748 - accuracy: 0.8505\n",
            "71/71 [==============================] - 0s 2ms/step - loss: 0.3216 - accuracy: 0.8905\n",
            "10\n",
            "749/749 [==============================] - 1s 2ms/step - loss: 0.5172 - accuracy: 0.8103\n",
            "9/9 [==============================] - 0s 2ms/step - loss: 0.6218 - accuracy: 0.8149\n",
            "71/71 [==============================] - 0s 1ms/step - loss: 0.4571 - accuracy: 0.8317\n",
            "11\n",
            "749/749 [==============================] - 1s 2ms/step - loss: 0.5039 - accuracy: 0.8228\n",
            "9/9 [==============================] - 0s 2ms/step - loss: 0.3691 - accuracy: 0.8648\n",
            "71/71 [==============================] - 0s 1ms/step - loss: 0.2914 - accuracy: 0.8985\n",
            "12\n",
            "749/749 [==============================] - 1s 2ms/step - loss: 0.4224 - accuracy: 0.8553\n",
            "9/9 [==============================] - 0s 2ms/step - loss: 0.3814 - accuracy: 0.8754\n",
            "71/71 [==============================] - 0s 2ms/step - loss: 0.2682 - accuracy: 0.9047\n",
            "13\n",
            "749/749 [==============================] - 1s 2ms/step - loss: 0.4012 - accuracy: 0.8669\n",
            "9/9 [==============================] - 0s 2ms/step - loss: 0.4456 - accuracy: 0.8505\n",
            "71/71 [==============================] - 0s 1ms/step - loss: 0.3579 - accuracy: 0.8802\n",
            "14\n",
            "749/749 [==============================] - 1s 2ms/step - loss: 0.3734 - accuracy: 0.8602\n",
            "9/9 [==============================] - 0s 2ms/step - loss: 0.3621 - accuracy: 0.8790\n",
            "71/71 [==============================] - 0s 1ms/step - loss: 0.2208 - accuracy: 0.9261\n",
            "15\n",
            "749/749 [==============================] - 1s 2ms/step - loss: 0.3309 - accuracy: 0.8833\n",
            "9/9 [==============================] - 0s 2ms/step - loss: 0.3523 - accuracy: 0.8932\n",
            "71/71 [==============================] - 0s 1ms/step - loss: 0.2130 - accuracy: 0.9265\n",
            "16\n",
            "749/749 [==============================] - 1s 2ms/step - loss: 0.3256 - accuracy: 0.8874\n",
            "9/9 [==============================] - 0s 2ms/step - loss: 0.3105 - accuracy: 0.8932\n",
            "71/71 [==============================] - 0s 2ms/step - loss: 0.2331 - accuracy: 0.9234\n",
            "17\n",
            "749/749 [==============================] - 1s 2ms/step - loss: 0.3089 - accuracy: 0.8967\n",
            "9/9 [==============================] - 0s 2ms/step - loss: 0.3110 - accuracy: 0.8968\n",
            "71/71 [==============================] - 0s 1ms/step - loss: 0.1908 - accuracy: 0.9261\n",
            "18\n",
            "749/749 [==============================] - 1s 2ms/step - loss: 0.2961 - accuracy: 0.9007\n",
            "9/9 [==============================] - 0s 2ms/step - loss: 0.4797 - accuracy: 0.8826\n",
            "71/71 [==============================] - 0s 2ms/step - loss: 0.2690 - accuracy: 0.9034\n",
            "19\n",
            "749/749 [==============================] - 1s 2ms/step - loss: 0.3045 - accuracy: 0.9003\n",
            "9/9 [==============================] - 0s 2ms/step - loss: 0.2531 - accuracy: 0.9324\n",
            "71/71 [==============================] - 0s 2ms/step - loss: 0.1250 - accuracy: 0.9568\n",
            "20\n",
            "749/749 [==============================] - 1s 2ms/step - loss: 0.2652 - accuracy: 0.9078\n",
            "9/9 [==============================] - 0s 2ms/step - loss: 0.3462 - accuracy: 0.8968\n",
            "71/71 [==============================] - 0s 1ms/step - loss: 0.1856 - accuracy: 0.9350\n",
            "21\n",
            "749/749 [==============================] - 1s 2ms/step - loss: 0.2578 - accuracy: 0.9150\n",
            "9/9 [==============================] - 0s 2ms/step - loss: 0.2588 - accuracy: 0.9217\n",
            "71/71 [==============================] - 0s 2ms/step - loss: 0.1531 - accuracy: 0.9475\n",
            "22\n",
            "749/749 [==============================] - 1s 2ms/step - loss: 0.2422 - accuracy: 0.9167\n",
            "9/9 [==============================] - 0s 2ms/step - loss: 0.3063 - accuracy: 0.9181\n",
            "71/71 [==============================] - 0s 2ms/step - loss: 0.1069 - accuracy: 0.9626\n",
            "23\n",
            "749/749 [==============================] - 1s 2ms/step - loss: 0.3002 - accuracy: 0.9078\n",
            "9/9 [==============================] - 0s 2ms/step - loss: 0.4011 - accuracy: 0.9004\n",
            "71/71 [==============================] - 0s 2ms/step - loss: 0.1404 - accuracy: 0.9524\n",
            "24\n",
            "749/749 [==============================] - 1s 2ms/step - loss: 0.2520 - accuracy: 0.9225\n",
            "9/9 [==============================] - 0s 2ms/step - loss: 0.4112 - accuracy: 0.8897\n",
            "71/71 [==============================] - 0s 2ms/step - loss: 0.1737 - accuracy: 0.9381\n"
          ],
          "name": "stdout"
        }
      ]
    },
    {
      "cell_type": "markdown",
      "metadata": {
        "id": "C70aaBBPhriK"
      },
      "source": [
        "###Plots"
      ]
    },
    {
      "cell_type": "code",
      "metadata": {
        "colab": {
          "base_uri": "https://localhost:8080/",
          "height": 499
        },
        "id": "v_OiG1ixeS_U",
        "outputId": "888504d1-8dc5-4e9d-f89b-2f3c58688f69"
      },
      "source": [
        "# drawing the plot for accuacy and loss in train and valid\n",
        "\n",
        "plt.figure(figsize=(30,8))\n",
        "plt.subplot(1,2,1)\n",
        "plt.ylim([0,1])\n",
        "plt.plot(range(epochs),evals_train[1],label=\"train\")\n",
        "plt.plot(range(epochs),evals_vaild[1],label=\"validation\")\n",
        "plt.legend()\n",
        "plt.title(\"Accuracy\")\n",
        "plt.subplot(1,2,2)\n",
        "plt.ylim([0,1])\n",
        "plt.plot(range(epochs),evals_train[0],label=\"train\")\n",
        "plt.plot(range(epochs),evals_vaild[0],label=\"validation\")\n",
        "plt.legend()\n",
        "plt.title(\"Loss\")\n",
        "plt.show()"
      ],
      "execution_count": null,
      "outputs": [
        {
          "output_type": "display_data",
          "data": {
            "image/png": "[encoded data removed]",
            "text/plain": [
              "<Figure size 2160x576 with 2 Axes>"
            ]
          },
          "metadata": {
            "tags": [],
            "needs_background": "light"
          }
        }
      ]
    },
    {
      "cell_type": "markdown",
      "metadata": {
        "id": "z8vG-JvGhuf2"
      },
      "source": [
        "###TEST"
      ]
    },
    {
      "cell_type": "code",
      "metadata": {
        "colab": {
          "base_uri": "https://localhost:8080/"
        },
        "id": "9-EXbWR0J5Ht",
        "outputId": "92d1ff71-9d2a-4e60-fb15-2b3bafc07da0"
      },
      "source": [
        "# evaluating model\n",
        "# available in: https://keras.io/guides/training_with_built_in_methods/\n",
        "\n",
        "model.evaluate(x_test,  y_test)"
      ],
      "execution_count": null,
      "outputs": [
        {
          "output_type": "stream",
          "text": [
            "9/9 [==============================] - 0s 2ms/step - loss: 0.2989 - accuracy: 0.9039\n"
          ],
          "name": "stdout"
        },
        {
          "output_type": "execute_result",
          "data": {
            "text/plain": [
              "[0.2989061772823334, 0.9039145708084106]"
            ]
          },
          "metadata": {
            "tags": []
          },
          "execution_count": 39
        }
      ]
    },
    {
      "cell_type": "code",
      "metadata": {
        "id": "qv8qh2wCKa57",
        "colab": {
          "base_uri": "https://localhost:8080/"
        },
        "outputId": "73f2450c-3fa3-467b-f5dd-45f32f3c86e8"
      },
      "source": [
        "# testing some inputs to see the result\n",
        "# we can see that usualldy the label found in the second command has the largest value in the first array\n",
        "arr = model(x_test[40:41])\n",
        "print(arr)\n",
        "answer = np.argmax(arr)\n",
        "print(answer)\n",
        "print(y_test[40:41])"
      ],
      "execution_count": null,
      "outputs": [
        {
          "output_type": "stream",
          "text": [
            "tf.Tensor(\n",
            "[[-16.453619  -20.219076  -20.806492   -2.7242463 -15.747955  -13.049114\n",
            "    7.0720077 -21.952307   14.995591  -15.626367 ]], shape=(1, 10), dtype=float32)\n",
            "8\n",
            "[8]\n"
          ],
          "name": "stdout"
        }
      ]
    },
    {
      "cell_type": "markdown",
      "metadata": {
        "id": "NE2fS1c7h0f8"
      },
      "source": [
        "### Saving and Loading model from files"
      ]
    },
    {
      "cell_type": "code",
      "metadata": {
        "id": "EuT1mlgnKlnP"
      },
      "source": [
        "# saving model\n",
        "# available in: https://keras.io/api/models/model_saving_apis\n",
        "\n",
        "tf.keras.models.save_model(\n",
        "    model,\n",
        "    filepath=dir + \"model\",\n",
        "    overwrite=True,\n",
        "    include_optimizer=True,\n",
        "    save_format=None,\n",
        "    signatures=None,\n",
        "    options=None,\n",
        "    save_traces=True,\n",
        ")"
      ],
      "execution_count": null,
      "outputs": []
    },
    {
      "cell_type": "code",
      "metadata": {
        "id": "qSzuyFHwLgzH"
      },
      "source": [
        "# loading model\n",
        "# available in: https://keras.io/api/models/model_saving_apis\n",
        "\n",
        "model2 = tf.keras.models.load_model(\n",
        "    filepath=dir + \"model\", custom_objects=None, compile=True, options=None\n",
        ")"
      ],
      "execution_count": null,
      "outputs": []
    },
    {
      "cell_type": "markdown",
      "metadata": {
        "id": "Kx0eRfEwh5qB"
      },
      "source": [
        "#we are done"
      ]
    },
    {
      "cell_type": "code",
      "metadata": {
        "id": "TYs3gQ1gc8FH"
      },
      "source": [
        "inp = np.array([[-320.501     ,   70.99223   ,   22.881935  ,   10.269344  ,\n",
        "         16.397808  ,   17.173342  ,    6.1273956 ,   21.855566  ,\n",
        "         15.697491  ,   12.020102  ,    8.335047  ,   10.396284  ,\n",
        "          7.6446233 ,   11.368333  ,    4.271583  ,    2.8540947 ,\n",
        "         -2.9313676 ,    0.8210173 ,   -0.45024464,    6.519269  ]])\n",
        "arr = model2(inp[0:1])\n",
        "answer = np.argmax(arr)\n",
        "print(arr)\n",
        "print(answer)"
      ],
      "execution_count": null,
      "outputs": []
    },
    {
      "cell_type": "code",
      "metadata": {
        "id": "cggbE19vQ2Li"
      },
      "source": [
        "# a code to generate featers array from a non_cutted audio file\n",
        "\n",
        "import librosa\n",
        "import numpy as np\n",
        "from pydub import AudioSegment\n",
        "from pydub.silence import split_on_silence\n",
        "from scipy.io.wavfile import write\n",
        "\n",
        "\n",
        "def create_audio_array(path, file_name, scale=1):\n",
        "    cut(path + file_name, path + \"final.wav\", scale=1)\n",
        "    np_array = audio_to_array(path + \"final.wav\")\n",
        "    return np_array\n",
        "\n",
        "\n",
        "# removing silence\n",
        "def cut(file_path, des_path, scale=1.5, leng=200):\n",
        "    audio = AudioSegment.from_wav(file_path)\n",
        "\n",
        "    # loudness = -40 if int(audio.dBFS) > -40 else int(audio.dBFS)-5\n",
        "    loudness = int(audio.dBFS * scale)\n",
        "    print(int(audio.dBFS))\n",
        "    print(loudness)\n",
        "    audio_chunks = split_on_silence(audio, min_silence_len=leng, silence_thresh=loudness)\n",
        "\n",
        "    # if code coudnt find a part -> try shortning the silence limit\n",
        "    if len(audio_chunks) == 0 and leng > 50:\n",
        "        cut(audio, leng=leng - 20)\n",
        "    elif len(audio_chunks) > 0:\n",
        "        audio_chunks[0].export(des_path, format=\"wav\")\n",
        "\n",
        "\n",
        "def audio_to_array(audio_path):\n",
        "    data, sampling_rate = librosa.load(str(audio_path))\n",
        "    mfccs = np.mean(librosa.feature.mfcc(y=data, sr=sampling_rate, n_mfcc=20), axis=1)\n",
        "\n",
        "    data_np = np.array([mfccs])\n",
        "    return data_np"
      ],
      "execution_count": null,
      "outputs": []
    },
    {
      "cell_type": "code",
      "metadata": {
        "id": "Ew4cK-0VRehR"
      },
      "source": [
        "path = dir\n",
        "array = create_audio_array(path, \"tmp.wav\")\n",
        "print(array)\n",
        "arr = model(array)\n",
        "answer = np.argmax(arr)\n",
        "print(answer)"
      ],
      "execution_count": null,
      "outputs": []
    }
  ]
}