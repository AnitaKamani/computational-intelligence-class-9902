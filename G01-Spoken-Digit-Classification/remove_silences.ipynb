{
  "nbformat": 4,
  "nbformat_minor": 0,
  "metadata": {
    "colab": {
      "name": "remove_silences.ipynb",
      "provenance": [],
      "collapsed_sections": [],
      "include_colab_link": true
    },
    "kernelspec": {
      "display_name": "Python 3",
      "name": "python3"
    },
    "language_info": {
      "name": "python"
    }
  },
  "cells": [
    {
      "cell_type": "markdown",
      "metadata": {
        "id": "view-in-github",
        "colab_type": "text"
      },
      "source": [
        "<a href=\"https://colab.research.google.com/github/AnitaKamani/computational-intelligence-class-9902/blob/G01-Spoken-Digit-Classification/G01-Spoken-Digit-Classification/remove_silences.ipynb\" target=\"_parent\"><img src=\"https://colab.research.google.com/assets/colab-badge.svg\" alt=\"Open In Colab\"/></a>"
      ]
    },
    {
      "cell_type": "code",
      "metadata": {
        "colab": {
          "base_uri": "https://localhost:8080/"
        },
        "id": "KU7ZWAnwAbKU",
        "outputId": "33183146-b79f-49f8-b48b-08e62775530a"
      },
      "source": [
        "pip install pydub "
      ],
      "execution_count": null,
      "outputs": [
        {
          "output_type": "stream",
          "text": [
            "Collecting pydub\n",
            "  Downloading https://files.pythonhosted.org/packages/a6/53/d78dc063216e62fc55f6b2eebb447f6a4b0a59f55c8406376f76bf959b08/pydub-0.25.1-py2.py3-none-any.whl\n",
            "Installing collected packages: pydub\n",
            "Successfully installed pydub-0.25.1\n"
          ],
          "name": "stdout"
        }
      ]
    },
    {
      "cell_type": "code",
      "metadata": {
        "colab": {
          "base_uri": "https://localhost:8080/"
        },
        "id": "mw_dIf-Zf5J1",
        "cellView": "code",
        "outputId": "f1ab885a-baa4-475c-87a0-bc23da4f78d2"
      },
      "source": [
        "from google.colab import drive\n",
        "drive.mount('/content/drive')"
      ],
      "execution_count": null,
      "outputs": [
        {
          "output_type": "stream",
          "text": [
            "Mounted at /content/drive\n"
          ],
          "name": "stdout"
        }
      ]
    },
    {
      "cell_type": "code",
      "metadata": {
        "id": "lquCc_xBAf31"
      },
      "source": [
        "#removing silence\n",
        "\n",
        "from pydub import AudioSegment\n",
        "from pydub.silence import split_on_silence\n",
        "import os\n",
        "\n",
        "\n",
        "def cut(\n",
        "    file_name,\n",
        "    folder_path,\n",
        "    des_path,\n",
        "    leng=300,\n",
        "    ):\n",
        "\n",
        "    sound_file = AudioSegment.from_wav(folder_path + file_name)\n",
        "    audio_chunks = split_on_silence(sound_file, min_silence_len=leng,\n",
        "                                    silence_thresh=-40)\n",
        "    out_file = des_path + file_name\n",
        "    for (i, chunk) in enumerate(audio_chunks):\n",
        "\n",
        "        chunk.export(out_file, format='wav')\n",
        "\n",
        "    # if code coudnt find a part -> try shortning the silence limit\n",
        "    if len(audio_chunks) == 0 and leng > 50:\n",
        "        cut(file_name, folder_path, des_path, leng - 50)\n",
        "    # probably a silence file -> drop\n",
        "    elif len(audio_chunks) == 0 and leng <= 50:\n",
        "        print ('Silence', out_file)\n",
        "    # more than one parted file\n",
        "    elif len(audio_chunks) >1:\n",
        "        print(\"!Error!\", file_name)\n",
        "        os.remove(out_file)"
      ],
      "execution_count": null,
      "outputs": []
    },
    {
      "cell_type": "code",
      "metadata": {
        "id": "whiMg19ZDs1m"
      },
      "source": [
        "import os\n",
        "\n",
        "# a function for collecting all files in a path and cut them to make no silence files\n",
        "def cutting_files(folder_path, des_path):\n",
        "    mylist = os.listdir(folder_path)\n",
        "    mylist.sort()\n",
        "    i = 0\n",
        "    for file_name in mylist:\n",
        "        cut(file_name, folder_path, des_path)\n",
        "        if i % 50 == 0:\n",
        "            print ('%.2f' % (i / 3000 * 100), '%')\n",
        "        i += 1\n",
        "\n",
        "\n",
        "cutting_files('/content/drive/MyDrive/CI_files/Spoken_Digit_Classification/Audio/raw_recordings/'\n",
        "      ,\n",
        "      '/content/drive/MyDrive/CI_files/Spoken_Digit_Classification/Audio/cut_silence/'\n",
        "      )\n"
      ],
      "execution_count": null,
      "outputs": []
    },
    {
      "cell_type": "code",
      "metadata": {
        "id": "dMLG8GhO-ybD"
      },
      "source": [
        "os.remove(\"/content/drive/MyDrive/CI_files/Spoken_Digit_Classification/Audio/cut_silence/9_theo_29.wav\")"
      ],
      "execution_count": null,
      "outputs": []
    }
  ]
}